# Instantiate the base model
clf_dt = DecisionTreeClassifier(max_depth=4)

# Build and train the Bagging classifier
clf_bag = BaggingClassifier(
  base_estimator=clf_dt,
  n_estimators=21,
  oob_score=True,
  random_state=500)
clf_bag.fit(X_train, y_train)

# Predict the labels of the test set
pred = clf_bag.predict(X_test)

# Show the F1-score
print('F1-Score: {:.3f}'.format(f1_score(y_test, pred)))

#F1-Score: 0.667

# Print the out-of-bag score
print('OOB-Score: {:.3f}'.format(clf_bag.oob_score_))
# Evaluate the performance on the test set to compare
print('Accuracy: {:.3f}'.format(accuracy_score(y_test, pred)))
#OOB-Score: 0.933
#Accuracy: 0.963
