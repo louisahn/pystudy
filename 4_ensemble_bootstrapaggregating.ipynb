
def build_decision_tree(X_train, y_train, rstate=None):
    # Takes a sample with replacement,
    X_train_sample = X_train.sample(frac=1.0, replace=True, random_state=rstate)
    y_train_sample = y_train.loc[X_train_sample.index]
    # builds a "weak" decision tree,
    clf = DecisionTreeClassifier(max_depth=4, max_features=2, rstate)
    clf.fit(X_train_sample, y_train_sample)

    
def predict_voting(classifiers, X):
    # Makes the individual predictions 
    for clf in classifiers:
      #clf.fit(X_train_sample, y_train_sample)
    # and then combines them using "Voting"    

# Build the list of individual models
clf_list = []
for i in range(21):
	clf_list.append(build_decision_tree(X_train, y_train, random_state=i))

# Predict on the test set
pred = predict_voting(clf_list, X_test)

# Print the F1 score
print('F1 score: {:.3f}'.format(f1_score(y_test, pred)))
#F1 score: 0.556
