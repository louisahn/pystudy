import pandas as pd


df = pd.DataFrame(
        [[4, 7, 10],
        [5, 8, 11],
        [6, 9, 12]],
        index=[1, 2, 3],
        columns=['a', 'b', 'c'])
df.loc[[1, 2], ["a", "b"]]

import numpy as np
df = pd.DataFrame(
        {"a" : [4 ,5, 6, 6, np.nan],
        "b" : [7, 8, np.nan, 9, 9],
        "c" : [10, 11, 12, np.nan, 12]},
        index = pd.MultiIndex.from_tuples(
        [('d',1),('d',2),('e',2),('e',3),('e',4)],
        names=['n','v']))
        
 #subset
 df[df.a < 7]
 df[df["c"] >= 7]
 
 df = df.drop_duplicates(keep='last')

df['a'].isin([5])

df['a'].isnull().sum()

pd.notnull(df)
df.notnull().sum()

df[df.b == 7] | df[df.a == 5]

df.sample(frac=0.3)
df.sample(n=5)

df.nlargest(1, 'a')


df.filter(regex='length$' )
df.filter(regex='^sepal' )
df.loc[df['sepal_length'] > 5, ['sepal_length','sepal_width']].head()

df['species'].nunique()
df['petal_width'].quantile([0.25,0.75])

values = {'A': 0, 'B': 1, 'C': 2, 'D': 3}
df.fillna(value=values)
fill_na_value = df['D'].max()
df.fillna(fill_na_value)

df.notnull().sum()
df.isnull().sum()

#create ln_A col with applying log on column A
df.assign(ln_A = lambda x: np.log(x.A))
#A	B	ln_A
#0	1	2.052028	0.000000
df.ln_A = np.log(df.A)

#sort
df.sort_values('mpg').head()
df.sort_values('mpg', ascending=False).head()

#col rename
df = df.rename(columns = {'model_year':'year'})

df.groupby("variable").sum()

#pivot
df = pd.DataFrame({'foo': ['one','one','one','two','two','two'],
                       'bar': ['A', 'B', 'C', 'A', 'B', 'C'],
                       'baz': [1, 2, 3, 4, 5, 6]})
df

df2 = df.pivot(index='foo', columns='bar', values='baz')

df3 = df2.reset_index()
#bar	foo	A	B	C
#0	one	1	2	3
#1	two	4	5	6

df3.melt(id_vars=['foo'], value_vars=['A', 'B', 'C']).sort_values(by=['foo', 'bar'])

#concat 연관된 컬럼이 데이터프레임에 없어도 결합 가능
#row, *ignore_index = True는 합병된 투플들이 기존 로우에 이은 로우 번호를 할당받는다
pd.concat([s1, s2], ignore_index=True)
#column
pd.concat([s1, s2],  axis =1)
pd.concat([s1, s2],  axis =1, join='outer')


#merge
#'inner' : 기본값. 공통 칼럼값을 대상으로 조인
#'left' : 좌측 칼럼값을 기준으로 조인
#'right' : 우측 칼럼값을 기준으로 조인
#'outer' : 좌, 우측 칼럼값 모두를 기준으로 조인 = 외부 조인
pd.merge(adf, bdf, how='left', on='x1')















